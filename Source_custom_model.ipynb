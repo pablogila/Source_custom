{
 "cells": [
  {
   "cell_type": "markdown",
   "metadata": {},
   "source": [
    "# Modelling of a generic neutron pulse\n",
    "\n",
    "This notebook presents a general model of a neutron source,\n",
    "with an optional pulsed time structure [1] and an energy distribution of moderated and under-moderated neutrons [2].\n",
    "This model is implemented in the **Source_custom**\n",
    "[component](https://github.com/mccode-dev/McCode/pull/1911)\n",
    "for the [McStas](https://mcstas.org/) Monte Carlo simulation package.\n",
    "Finally, this notebook also provides a tool to manually fit data from real neutron sources to this model.\n",
    "\n",
    "Import all necessary packages to load the interactive models:"
   ]
  },
  {
   "cell_type": "code",
   "execution_count": 1,
   "metadata": {},
   "outputs": [],
   "source": [
    "import matplotlib.pyplot as plt\n",
    "import numpy as np\n",
    "import pandas as pd\n",
    "import ipywidgets\n",
    "from aton import phys\n",
    "dataset = None"
   ]
  },
  {
   "cell_type": "markdown",
   "metadata": {},
   "source": [
    "## Time structure\n",
    "\n",
    "Exponential kinetics are usually modelled as the sum of one or two exponentials.\n",
    "For a growing curve over time with a decay factor $\\tau$:\n",
    "$$N_{\\text{grow}}(t)=A_{0}+\\sum_{i}A_{i}\\left(1-\\exp\\left(-\\frac{t}{\\tau_1}\\right)\\right)$$\n",
    "\n",
    "And the decay curve would follow:\n",
    "$$N_{\\text{decay}}(t)=\\sum_{i}A_{i}\\cdot\\exp\\left({-\\frac{t}{\\tau_2}}\\right)$$\n",
    "\n",
    "With $A_i$ as the neutron flux, the time structure of a neutron pulse according to [1] follows:\n",
    "$$N_{t<t_p}=1-\\exp\\left(-\\frac{t}{\\tau/n}\\right)$$\n",
    "$$N_{t>tp}=\\exp\\left(-\\frac{t-t_p}{\\tau}\\right)-\\exp\\left(-\\frac{t}{\\tau/n}\\right)$$\n",
    "\n",
    "with $t_p$ the pulse length, and $n$ the ratio between time decay and ascend constants.\n",
    "\n",
    "It is commonly assumed that $n=1$, which is the default value in the **Source_pulsed** component.\n",
    "Note that there is a tradeoff for values other than 1, since it affects the normalisation of the model.\n",
    "\n",
    "You can interact with this model running the cell below."
   ]
  },
  {
   "cell_type": "code",
   "execution_count": 6,
   "metadata": {},
   "outputs": [
    {
     "data": {
      "application/vnd.jupyter.widget-view+json": {
       "model_id": "ce467410a06b494a9da5cb5e365fd7fc",
       "version_major": 2,
       "version_minor": 0
      },
      "text/plain": [
       "interactive(children=(FloatSlider(value=0.0026, description='t_pulse', max=0.01, min=1e-05, readout_format='.3…"
      ]
     },
     "metadata": {},
     "output_type": "display_data"
    },
    {
     "data": {
      "text/plain": [
       "<function __main__.interactive_pulse_carpenter(t_pulse, tau, n, log, xzoom)>"
      ]
     },
     "execution_count": 6,
     "metadata": {},
     "output_type": "execute_result"
    }
   ],
   "source": [
    "def pulse_carpenter(t, tau, t_pulse, n) -> np.ndarray:\n",
    "    result = np.zeros_like(t)\n",
    "    mask = t <= t_pulse\n",
    "    # t <= t_pulse\n",
    "    result[mask] = 1 - np.exp(-t[mask] / (tau/n))\n",
    "    # t > t_pulse\n",
    "    result[~mask] = np.exp(-(t[~mask]-t_pulse)/tau) - np.exp(-t[~mask]/(tau)) \n",
    "    # normalize flux over time\n",
    "    result = result / t_pulse\n",
    "    print(f'Integral: {np.trapezoid(result, t):.2}')\n",
    "    return result\n",
    "\n",
    "def interactive_pulse_carpenter(t_pulse, tau, n, log, xzoom):\n",
    "    #plt.clf()\n",
    "    tmax = t_pulse / xzoom\n",
    "    fig, ax = plt.subplots()\n",
    "    t = np.linspace(0, tmax, 100)\n",
    "    i = pulse_carpenter(t, tau, t_pulse, n)\n",
    "    ax.plot(t, i)\n",
    "    ax.set_xlabel('Time / s')\n",
    "    ax.set_ylabel('Intensity / a.u.')\n",
    "    ax.set_xlim(0, tmax)\n",
    "    if log:\n",
    "        ax.set_yscale('log')\n",
    "    plt.show()\n",
    "    return None\n",
    "\n",
    "t_pulse = ipywidgets.FloatSlider(value=0.0026, min=0.00001, max=0.01, step=1e-5, description='t_pulse', readout_format='.3')\n",
    "tau     = ipywidgets.FloatSlider(value=0.0001, min=1e-5,  max=1e-3, step=1e-5, description='tau', readout_format='.4')\n",
    "n       = ipywidgets.FloatLogSlider(value=1.0, base=10, min=-1,  max=1, step=0.01, description='n', readout_format='.2')\n",
    "log     = ipywidgets.Checkbox(value=False, description='Log Scale')\n",
    "xzoom   = ipywidgets.FloatLogSlider(value=0.5, base=10, min=-1, max=1, step=0.1, description='X Zoom', readout_format='.1')\n",
    "\n",
    "ipywidgets.interact(interactive_pulse_carpenter, t_pulse=t_pulse, tau=tau, n=n, log=log, xzoom=xzoom)\n"
   ]
  },
  {
   "cell_type": "markdown",
   "metadata": {},
   "source": [
    "## Energy distribution\n",
    "\n",
    "### Moderated neutrons\n",
    "\n",
    "The wavelength distribution from a neutron source should follow a Maxwellian distribution according to the moderator temperature [2]:\n",
    "$$M(\\lambda)=\\frac{2a^2}{T^2\\lambda^5}\\exp\\left(-\\frac{a}{T\\lambda^{2}}\\right)$$\n",
    "$$a=\\left(\\frac{h^2}{2m_{N}k_{B}}\\right)$$\n",
    "\n",
    "Below is an interactive model for this purely Maxwellian distribution:\n"
   ]
  },
  {
   "cell_type": "code",
   "execution_count": 3,
   "metadata": {},
   "outputs": [
    {
     "data": {
      "application/vnd.jupyter.widget-view+json": {
       "model_id": "265cc423ba9a47988507f07e806f2b94",
       "version_major": 2,
       "version_minor": 0
      },
      "text/plain": [
       "interactive(children=(FloatSlider(value=300.0, description='Temperature', max=1000.0, min=1.0, readout_format=…"
      ]
     },
     "metadata": {},
     "output_type": "display_data"
    },
    {
     "data": {
      "text/plain": [
       "<function __main__.interactive_maxwell(temperature, xzoom)>"
      ]
     },
     "execution_count": 3,
     "metadata": {},
     "output_type": "execute_result"
    }
   ],
   "source": [
    "def maxwell(lmbd, temperature):\n",
    "    a = 949.29 / temperature\n",
    "    M = 2.0 * a*a * np.exp(-a/(lmbd*lmbd)) / lmbd**5\n",
    "    integral = f'Integral: {np.trapezoid(M, lmbd):.2}'\n",
    "    return M, integral\n",
    "\n",
    "def interactive_maxwell(temperature, xzoom):\n",
    "    #plt.clf()\n",
    "    fig, ax = plt.subplots()\n",
    "    max_lmbd = np.sqrt(5000/temperature) / xzoom\n",
    "    lmbd = np.linspace(0.001, max_lmbd, 100)\n",
    "    T, integral = maxwell(lmbd, temperature)\n",
    "    print(integral)\n",
    "    ax.plot(lmbd, T)\n",
    "    ax.set_xlabel('Wavelength / AA')\n",
    "    ax.set_ylabel('Intensity / a.u.')\n",
    "    ax.set_xlim(0.0, max_lmbd)\n",
    "    plt.show()\n",
    "    return None\n",
    "\n",
    "temperature = ipywidgets.FloatSlider(value=300, min=1, max=1000, step=1, description='Temperature', readout_format='.4')\n",
    "xzoom = ipywidgets.FloatLogSlider(value=1, base=10, min=-1, max=1, step=0.1, description='X Zoom', readout_format='.1')\n",
    "\n",
    "ipywidgets.interact(interactive_maxwell, temperature=temperature, xzoom=xzoom)"
   ]
  },
  {
   "cell_type": "markdown",
   "metadata": {},
   "source": [
    "### Under-moderated neutrons\n",
    "\n",
    "Moderators are usually thin to avoid big flux losses. This leads to some under-moderated neutrons to escape with high energies.\n",
    "These are modelled by a so-called *joining function* [2]:\n",
    "\n",
    "$$M(\\lambda)_{um}=\\frac{1}{\\lambda(1+\\exp(\\lambda\\chi-\\kappa))}$$\n",
    "\n",
    "With $\\chi$ as an experimental factor for the wavelength dependence of under-moderated neutrons,\n",
    "and $\\kappa$ as an experimental scaling factor for the flux of under-moderated neutrons.\n",
    "\n",
    "Note that a simpler model of a joining function, $M(\\lambda)_{um}=1/\\lambda$, can be achieved with $\\chi=0$ and $\\kappa=\\infty$.\n",
    "\n",
    "The interactive model below considers only the under-moderated contributions:"
   ]
  },
  {
   "cell_type": "code",
   "execution_count": 4,
   "metadata": {},
   "outputs": [
    {
     "data": {
      "application/vnd.jupyter.widget-view+json": {
       "model_id": "59cd812f1ae543ed87afd4cda5f0849d",
       "version_major": 2,
       "version_minor": 0
      },
      "text/plain": [
       "interactive(children=(FloatSlider(value=2.5, description='chi', max=10.0, min=-10.0, readout_format='.2'), Flo…"
      ]
     },
     "metadata": {},
     "output_type": "display_data"
    },
    {
     "data": {
      "text/plain": [
       "<function __main__.interactive_joining_function(chi, kappa, xzoom, log)>"
      ]
     },
     "execution_count": 4,
     "metadata": {},
     "output_type": "execute_result"
    }
   ],
   "source": [
    "def joining_function(lmbd, chi, kappa):\n",
    "    intensity =  1.0 / ((1.0 + np.exp(chi * lmbd - kappa)) * lmbd)\n",
    "    integral = f'Integral: {np.trapezoid(intensity, lmbd):.2}'\n",
    "    return intensity, integral\n",
    "\n",
    "def interactive_joining_function(chi, kappa, xzoom, log):\n",
    "    #plt.clf()\n",
    "    fig, ax = plt.subplots()\n",
    "    max_lmbd = 1.0 / xzoom\n",
    "    lmbd = np.linspace(0.001, max_lmbd, 1000)\n",
    "    J, integral = joining_function(lmbd, chi, kappa)\n",
    "    print(integral)\n",
    "    ax.plot(lmbd, J)\n",
    "    ax.set_xlabel('Wavelength / AA')\n",
    "    ax.set_ylabel('Intensity / a.u.')\n",
    "    ax.set_xlim(0.0, max_lmbd)\n",
    "    if log:\n",
    "        ax.set_yscale('log')\n",
    "    plt.show()\n",
    "    return None\n",
    "\n",
    "chi = ipywidgets.FloatSlider(value=2.5, min=-10, max=10, step=0.1, description='chi', readout_format='.2')\n",
    "kappa = ipywidgets.FloatSlider(value=2.2, min=-10, max=10, step=0.1, description='kappa', readout_format='.2')\n",
    "xzoom = ipywidgets.FloatLogSlider(value=0.5, base=10, min=-1, max=1, step=0.1, description='X Zoom', readout_format='.1')\n",
    "log = ipywidgets.Checkbox(value=True, description='Log Scale')\n",
    "\n",
    "ipywidgets.interact(interactive_joining_function, chi=chi, kappa=kappa, xzoom=xzoom, log=log)"
   ]
  },
  {
   "cell_type": "markdown",
   "metadata": {},
   "source": [
    "### All contributions\n",
    "\n",
    "The total energy distribution will be a combination of the moderated and unmoderated contributions, each with a particular flux $I_i$\n",
    "$$M(\\lambda)_{total} = I_{um} \\cdot M(\\lambda)_{um} + \\sum_i I_i \\cdot M(\\lambda)_i$$\n",
    "\n",
    "The model below considers all contributions, both from moderated and under-moderated contributions.\n",
    "Up to three Maxwellian distributions for the moderated neutrons are considered.\n",
    "\n",
    "The available input values are the same as those of the **Source_custom** McStas component (except for the plotting options)."
   ]
  },
  {
   "cell_type": "code",
   "execution_count": 7,
   "metadata": {},
   "outputs": [
    {
     "data": {
      "application/vnd.jupyter.widget-view+json": {
       "model_id": "f2dcf408c60f48ceb666258c4a94aee6",
       "version_major": 2,
       "version_minor": 0
      },
      "text/plain": [
       "interactive(children=(FloatSlider(value=300.0, description='T1', max=1000.0, min=1.0, readout_format='.4', ste…"
      ]
     },
     "metadata": {},
     "output_type": "display_data"
    },
    {
     "data": {
      "text/plain": [
       "<function __main__.interactive_spectra(T1, I1, T2, I2, T3, I3, Ium, chi, kappa, xzoom, yzoom, cutoff, flux_multiplier, plot_type)>"
      ]
     },
     "execution_count": 7,
     "metadata": {},
     "output_type": "execute_result"
    }
   ],
   "source": [
    "def spectra(lmbd, T1, I1, T2, I2, T3, I3, Ium, chi, kappa):\n",
    "    maxwell_1, _ = maxwell(lmbd, T1)\n",
    "    maxwell_2, _ = maxwell(lmbd, T2)\n",
    "    maxwell_3, _ = maxwell(lmbd, T3)\n",
    "    unmoderated, _ = joining_function(lmbd, chi, kappa)\n",
    "    moderated = I1 * maxwell_1 + I2 * maxwell_2 + I3 * maxwell_3\n",
    "    M = Ium * unmoderated + moderated\n",
    "    max_maxwell = np.max(moderated)\n",
    "    return M, max_maxwell\n",
    "\n",
    "def interactive_spectra(T1, I1, T2, I2, T3, I3, Ium, chi, kappa, xzoom, yzoom, cutoff, flux_multiplier, plot_type):\n",
    "    fig, ax = plt.subplots()\n",
    "    max_lmbd = np.sqrt(6000/T1) / xzoom\n",
    "    lmbd = np.linspace(cutoff, max_lmbd, 100)\n",
    "    M, ymax = spectra(lmbd, T1, I1*flux_multiplier, T2, I2*flux_multiplier, T3, I3*flux_multiplier, Ium*flux_multiplier, chi, kappa)\n",
    "    ymax = 1.1 * ymax / yzoom\n",
    "    if plot_type == 'wavelength':\n",
    "        ax.plot(lmbd, M)\n",
    "        if dataset:\n",
    "            ax.plot(dataset[0], dataset[1], marker='.', linestyle='')\n",
    "        ax.set_xlim(0.0, max_lmbd)\n",
    "        ax.set_ylim(0.0, ymax)\n",
    "        ax.set_xlabel('Wavelength / $\\\\AA$')\n",
    "        ax.set_ylabel('Intensity / a.u.')\n",
    "    else:\n",
    "        E = phys.AA_to_meV * phys.meV_to_eV / (lmbd**2)\n",
    "        ax.plot(E, M)\n",
    "        if dataset:\n",
    "            dataset_E = phys.AA_to_meV * phys.meV_to_eV / (dataset[0]**2)\n",
    "            ax.plot(dataset_E, dataset[1], marker='.', linestyle='')\n",
    "        ax.set_xlabel('Energy / eV')\n",
    "        ax.set_ylabel('Intensity / a.u.')\n",
    "        plt.xscale('log')\n",
    "        plt.yscale('log')\n",
    "    return None\n",
    "\n",
    "T1 = ipywidgets.FloatSlider(value=300, min=1, max=1000, step=1, description='T1', readout_format='.4')\n",
    "I1 = ipywidgets.FloatSlider(value=1, min=0, max=1, step=0.001, description='I1', readout_format='.4')\n",
    "T2 = ipywidgets.FloatSlider(value=60, min=1, max=1000, step=1, description='T2', readout_format='.4')\n",
    "I2 = ipywidgets.FloatSlider(value=0, min=0, max=1, step=0.001, description='I2', readout_format='.4')\n",
    "T3 = ipywidgets.FloatSlider(value=30, min=1, max=1000, step=1, description='T3', readout_format='.4')\n",
    "I3 = ipywidgets.FloatSlider(value=0, min=0, max=1, step=0.001, description='I3', readout_format='.4')\n",
    "Ium = ipywidgets.FloatSlider(value=0, min=0, max=1, step=0.001, description='I_um', readout_format='.4')\n",
    "chi = ipywidgets.FloatSlider(value=0, min=-20, max=20, step=0.001, description='chi', readout_format='.4')\n",
    "kappa = ipywidgets.FloatSlider(value=0, min=-20, max=20, step=0.001, description='kap', readout_format='.4')\n",
    "xzoom = ipywidgets.FloatLogSlider(value=1, base=10, min=-1, max=1, step=0.01, description='X Zoom', readout_format='.3')\n",
    "yzoom = ipywidgets.FloatLogSlider(value=1, base=10, min=-1, max=1, step=0.01, description='Y Zoom', readout_format='.3')\n",
    "cutoff = ipywidgets.FloatSlider(value=0.1, min=0.01, max=0.5, step=0.01, description='Low cutoff', readout_format='.3')\n",
    "flux_multiplier = ipywidgets.FloatLogSlider(value=-1, base=10, min=-2, max=15, step=0.01, description='Flux multiplier', readout_format='.2')\n",
    "plot_type = ipywidgets.RadioButtons(options=['wavelength', 'energy'], value='wavelength', description='Plot type')\n",
    "\n",
    "ipywidgets.interact(interactive_spectra, T1=T1, I1=I1, T2=T2, I2=I2, T3=T3, I3=I3, Ium=Ium, chi=chi, kappa=kappa, xzoom=xzoom, yzoom=yzoom, cutoff=cutoff, flux_multiplier=flux_multiplier, plot_type=plot_type)"
   ]
  },
  {
   "cell_type": "markdown",
   "metadata": {},
   "source": [
    "## Fitting actual data from real neutron sources\n",
    "\n",
    "You may want to fit experimental spectra from real sources, in order to use them in McStas with the **Source_custom** component.\n",
    "You can do so with [SciPy.optimize.curve_fit](https://docs.scipy.org/doc/scipy/reference/generated/scipy.optimize.curve_fit.html).\n",
    "However this can get messy, since there are quite a few variables to fit.\n",
    "As a first approximation, it can be useful to fit the dataset by hand, before refining it with the algorythm.\n",
    "\n",
    "You can load your own dataset in the cell below.\n",
    "Then run again the cell above with the full model, and your dataset will be displayed alongside the model.\n",
    "Remember to use the flux multiplier and zoom sliders!"
   ]
  },
  {
   "cell_type": "code",
   "execution_count": null,
   "metadata": {},
   "outputs": [
    {
     "name": "stdout",
     "output_type": "stream",
     "text": [
      "                0            1\n",
      "0    2.861897e-04     0.247416\n",
      "1    3.109013e-04     0.605227\n",
      "2    2.925671e-04     0.137158\n",
      "3    2.934281e-04     0.066694\n",
      "4    4.642190e-04     0.613061\n",
      "..            ...          ...\n",
      "96   2.788716e+06  5997.193017\n",
      "97   3.236572e+06  4849.586579\n",
      "98   2.937138e+06  7374.736068\n",
      "99   4.103503e+06  4277.131672\n",
      "100  4.622696e+06  3284.681546\n",
      "\n",
      "[101 rows x 2 columns]\n"
     ]
    }
   ],
   "source": [
    "filename = './data/RANS1_ma2021_2m_PE_4cm.csv'\n",
    "\n",
    "# Your data might need a bit of processing, e.g. it might be in eV instead of AA... Fix it here!\n",
    "data = pd.read_csv(filename, comment='#', header=None)\n",
    "intensity  = data.iloc[:, 1].values\n",
    "energy     = data.iloc[:, 0].values\n",
    "wavelength = np.sqrt(phys.AA_to_meV / (energy * phys.eV_to_meV))\n",
    "dataset = (wavelength, intensity)\n",
    "# data = None  # To remove the dataset\n",
    "\n",
    "print(data)"
   ]
  },
  {
   "cell_type": "markdown",
   "metadata": {},
   "source": [
    "## References\n",
    "\n",
    "- [1] J. M. Carpenter and W. B. Yelon, Methods in Experimental Physics 23, p. 127, Chapter 2, Neutron Sources (1986).\n",
    "- [2] J. M. Carpenter et al, Nuclear Instruments and Methods in Physics Research Section A, 234, 542–551 (1985)."
   ]
  },
  {
   "cell_type": "code",
   "execution_count": null,
   "metadata": {},
   "outputs": [],
   "source": []
  }
 ],
 "metadata": {
  "kernelspec": {
   "display_name": "Python 3 (ipykernel)",
   "language": "python",
   "name": "python3"
  },
  "language_info": {
   "codemirror_mode": {
    "name": "ipython",
    "version": 3
   },
   "file_extension": ".py",
   "mimetype": "text/x-python",
   "name": "python",
   "nbconvert_exporter": "python",
   "pygments_lexer": "ipython3",
   "version": "3.12.9"
  }
 },
 "nbformat": 4,
 "nbformat_minor": 4
}
